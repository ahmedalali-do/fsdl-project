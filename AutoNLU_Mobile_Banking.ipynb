{
  "nbformat": 4,
  "nbformat_minor": 0,
  "metadata": {
    "accelerator": "GPU",
    "colab": {
      "name": "AutoNLU Mobile Banking.ipynb",
      "provenance": [],
      "collapsed_sections": [
        "POzYmLuIABbC",
        "6GpM_uZT7r9u",
        "SQYtv9tK6sbi"
      ],
      "toc_visible": true,
      "include_colab_link": true
    },
    "kernelspec": {
      "display_name": "Python 3",
      "name": "python3"
    }
  },
  "cells": [
    {
      "cell_type": "markdown",
      "metadata": {
        "id": "view-in-github",
        "colab_type": "text"
      },
      "source": [
        "<a href=\"https://colab.research.google.com/github/ahmedalali-do/fsdl-project/blob/main/AutoNLU_Mobile_Banking.ipynb\" target=\"_parent\"><img src=\"https://colab.research.google.com/assets/colab-badge.svg\" alt=\"Open In Colab\"/></a>"
      ]
    },
    {
      "cell_type": "markdown",
      "metadata": {
        "id": "uspHISe6_vZi"
      },
      "source": [
        "# Mobile Banking Aspect-based Sentiment Analysis AutoNLU"
      ]
    },
    {
      "cell_type": "markdown",
      "metadata": {
        "id": "OYIkACmY_3wL"
      },
      "source": [
        "## Setup & Installation"
      ]
    },
    {
      "cell_type": "markdown",
      "metadata": {
        "id": "POzYmLuIABbC"
      },
      "source": [
        "#### Installing Dependencies"
      ]
    },
    {
      "cell_type": "code",
      "metadata": {
        "id": "VS79XpqCAHrH"
      },
      "source": [
        "%env PIP_PULL=\n",
        "! pip install autonlu --extra-index-url=https://${PIP_PULL}:@pypi.fury.io/deepopinion"
      ],
      "execution_count": null,
      "outputs": []
    },
    {
      "cell_type": "markdown",
      "metadata": {
        "id": "NTdvFOywBB4z"
      },
      "source": [
        "#### Define Environment Variiables"
      ]
    },
    {
      "cell_type": "code",
      "metadata": {
        "id": "amJGoOMg4NSh"
      },
      "source": [
        "%load_ext tensorboard\n",
        "\n",
        "!pip install xmltodict -q\n",
        "\n",
        "import autonlu\n",
        "from autonlu import Model\n",
        "\n",
        "import pandas as pd\n",
        "import numpy as np\n",
        "\n",
        "import requests\n",
        "import xmltodict"
      ],
      "execution_count": null,
      "outputs": []
    },
    {
      "cell_type": "code",
      "metadata": {
        "id": "DPLAIVWK3DT-"
      },
      "source": [
        "#login to your account and test that it is connected\n",
        "autonlu.login()  # Will prompt for user and password\n",
        "\n",
        "model = autonlu.Model(\"DeepOpinion/hotels_absa_en\")\n",
        "model.predict([\"The room was nice, but the staff was unfriendly\"])\n",
        "# Returns [[['Room', 'POS'], ['Staff', 'NEG']]]"
      ],
      "execution_count": null,
      "outputs": []
    },
    {
      "cell_type": "markdown",
      "metadata": {
        "id": "6GpM_uZT7r9u"
      },
      "source": [
        "### Listing Models & Projects"
      ]
    },
    {
      "cell_type": "code",
      "metadata": {
        "id": "nmorR6Qn4ja3"
      },
      "source": [
        "#all availablepretrained models\n",
        "from autonlu import Model, list_models"
      ],
      "execution_count": null,
      "outputs": []
    },
    {
      "cell_type": "code",
      "metadata": {
        "id": "Y5BZnoXt4C4i"
      },
      "source": [
        "# List all projects of user account\n",
        "autonlu.list_models()"
      ],
      "execution_count": null,
      "outputs": []
    },
    {
      "cell_type": "markdown",
      "metadata": {
        "id": "zQRrfSOg9U0y"
      },
      "source": [
        "## Train A Model"
      ]
    },
    {
      "cell_type": "markdown",
      "metadata": {
        "id": "SQYtv9tK6sbi"
      },
      "source": [
        "### Upload Training Data"
      ]
    },
    {
      "cell_type": "code",
      "metadata": {
        "id": "C3Dr_mTu9QtA"
      },
      "source": [
        "from google.colab import files\n",
        "uploaded = files.upload()"
      ],
      "execution_count": null,
      "outputs": []
    },
    {
      "cell_type": "code",
      "metadata": {
        "id": "zhotxbnE3QuU"
      },
      "source": [
        "data = pd.read_csv('mobile_banking_training_data.csv').reset_index()"
      ],
      "execution_count": null,
      "outputs": []
    },
    {
      "cell_type": "code",
      "metadata": {
        "id": "niiMO3WA3oCF"
      },
      "source": [
        "data.head()"
      ],
      "execution_count": null,
      "outputs": []
    },
    {
      "cell_type": "code",
      "metadata": {
        "id": "paOKCm3y3vm-"
      },
      "source": [
        "#merge aspect & sentiment labels to a list\n",
        "\n",
        "data['absa'] = data[['aspect','sentiment']].values.tolist()"
      ],
      "execution_count": null,
      "outputs": []
    },
    {
      "cell_type": "code",
      "metadata": {
        "id": "U6TQ1QZv3-0X"
      },
      "source": [
        "#aggregate labels for multi-label classification\n",
        "\n",
        "train = data.groupby('segment_text')['absa'].apply(list).reset_index(name='absa')[:175]"
      ],
      "execution_count": null,
      "outputs": []
    },
    {
      "cell_type": "code",
      "metadata": {
        "id": "1uCWvEKZ4TBp"
      },
      "source": [
        "train"
      ],
      "execution_count": null,
      "outputs": []
    },
    {
      "cell_type": "markdown",
      "metadata": {
        "id": "Pl5BcwQ8SGlS"
      },
      "source": [
        "### Upload datasets"
      ]
    },
    {
      "cell_type": "markdown",
      "metadata": {
        "id": "lYw5Jqg03MJZ"
      },
      "source": [
        "### Model Training"
      ]
    },
    {
      "cell_type": "code",
      "metadata": {
        "id": "ca4grRdJhCmf"
      },
      "source": [
        "!nvidia-smi"
      ],
      "execution_count": null,
      "outputs": []
    },
    {
      "cell_type": "code",
      "metadata": {
        "id": "j8eVn0xw7ERb"
      },
      "source": [
        "#confirm that runtime is using GPU 'cuda'\n",
        "model.device"
      ],
      "execution_count": null,
      "outputs": []
    },
    {
      "cell_type": "code",
      "metadata": {
        "id": "_wDQmM8GHBEk"
      },
      "source": [
        "#import libraries\n",
        "%load_ext tensorboard\n",
        "import gdown"
      ],
      "execution_count": null,
      "outputs": []
    },
    {
      "cell_type": "code",
      "metadata": {
        "id": "sTbeCnKo40Q4"
      },
      "source": [
        "model = Model(\"DeepOpinion/banking_base_en\", standard_label=\"neutral\", )\n",
        "model.train(train['segment_text'].to_list(), train['absa'].to_list(), verbose=True)\n",
        "model.save(\"mobile_banking_absa_fsdl\")"
      ],
      "execution_count": null,
      "outputs": []
    },
    {
      "cell_type": "code",
      "metadata": {
        "id": "uePsPlOw5ZlQ"
      },
      "source": [
        "#import tensorboard for visualization\n",
        "%tensorboard --logdir tensorboard_logs"
      ],
      "execution_count": null,
      "outputs": []
    },
    {
      "cell_type": "code",
      "metadata": {
        "id": "RfXZytAN01fs"
      },
      "source": [
        "#test model\n",
        "prediction_model = Model(\"mobile_banking_absa_fsdl\")\n",
        "ret = prediction_model.predict([\n",
        "    \"I have bank with this over 20 years for one purpose the bill pay system was great. Made my life easy.\",\n",
        "    \"I tried to set up auto pay to automatically pay the whole balance every month. No can do. The app automatically schedules the minimum payment every month. No way to change on the app. No help - so far - from customer service. Sad.\"])\n",
        "print(ret)"
      ],
      "execution_count": null,
      "outputs": []
    },
    {
      "cell_type": "code",
      "metadata": {
        "id": "EdR-ZLzxkasr"
      },
      "source": [
        ""
      ],
      "execution_count": null,
      "outputs": []
    }
  ]
}